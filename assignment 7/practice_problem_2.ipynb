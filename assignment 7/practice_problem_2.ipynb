{
  "nbformat": 4,
  "nbformat_minor": 0,
  "metadata": {
    "colab": {
      "name": "practice problem 2.ipynb",
      "provenance": [],
      "collapsed_sections": [],
      "authorship_tag": "ABX9TyPJk59PIz0A5dPD15Os+1cS",
      "include_colab_link": true
    },
    "kernelspec": {
      "name": "python3",
      "display_name": "Python 3"
    },
    "language_info": {
      "name": "python"
    }
  },
  "cells": [
    {
      "cell_type": "markdown",
      "metadata": {
        "id": "view-in-github",
        "colab_type": "text"
      },
      "source": [
        "<a href=\"https://colab.research.google.com/github/sarikamohan08/python_assignments/blob/main/assignment%207/practice_problem_2.ipynb\" target=\"_parent\"><img src=\"https://colab.research.google.com/assets/colab-badge.svg\" alt=\"Open In Colab\"/></a>"
      ]
    },
    {
      "cell_type": "markdown",
      "metadata": {
        "id": "IW2bZmd0eaE6"
      },
      "source": [
        "Write a Python program to check if all dictionaries in a list are empty or not."
      ]
    },
    {
      "cell_type": "code",
      "metadata": {
        "colab": {
          "base_uri": "https://localhost:8080/"
        },
        "id": "AQtAChgVeYoG",
        "outputId": "eb57c9a2-b6e7-4a0c-bdb1-7eeaa2fa4fc4"
      },
      "source": [
        "my_list1 = [{},{},{}]\n",
        "my_list2 = [{123,2345},{},{}]\n",
        "print(all(not d for d in my_list1))\n",
        "print(all(not d for d in my_list2))"
      ],
      "execution_count": 1,
      "outputs": [
        {
          "output_type": "stream",
          "text": [
            "True\n",
            "False\n"
          ],
          "name": "stdout"
        }
      ]
    },
    {
      "cell_type": "markdown",
      "metadata": {
        "id": "fxApHXD8ej0v"
      },
      "source": [
        "Write a Python program to remove duplicates from a list of lists."
      ]
    },
    {
      "cell_type": "code",
      "metadata": {
        "colab": {
          "base_uri": "https://localhost:8080/"
        },
        "id": "a7csbQxLenTM",
        "outputId": "cfede433-6106-47c0-ae53-aacbf9b263e2"
      },
      "source": [
        "import itertools\n",
        "num = [[110, 120], [240], [330, 456,425], [310, 220], [133], [240]]\n",
        "print(\"Original List\", num)\n",
        "num.sort()\n",
        "new_num = list(num for num,_ in itertools.groupby(num))\n",
        "print(\"New List\", new_num)"
      ],
      "execution_count": 5,
      "outputs": [
        {
          "output_type": "stream",
          "text": [
            "Original List [[110, 120], [240], [330, 456, 425], [310, 220], [133], [240]]\n",
            "New List [[110, 120], [133], [240], [310, 220], [330, 456, 425]]\n"
          ],
          "name": "stdout"
        }
      ]
    },
    {
      "cell_type": "markdown",
      "metadata": {
        "id": "FaWNSmYufd4u"
      },
      "source": [
        "Write a Python program to extend a list without append."
      ]
    },
    {
      "cell_type": "code",
      "metadata": {
        "colab": {
          "base_uri": "https://localhost:8080/"
        },
        "id": "g7rMi2w4fdfJ",
        "outputId": "59ca0dbe-af7f-43a6-b853-b7f3eec94888"
      },
      "source": [
        "x = [103, 320, 430]\n",
        "y = [403, 503, 603]\n",
        "x[:0] =y\n",
        "print(x)"
      ],
      "execution_count": 7,
      "outputs": [
        {
          "output_type": "stream",
          "text": [
            "[403, 503, 603, 103, 320, 430]\n"
          ],
          "name": "stdout"
        }
      ]
    },
    {
      "cell_type": "markdown",
      "metadata": {
        "id": "mXfoC42-f3ce"
      },
      "source": [
        "Write a Python program to find the list in a list of lists whose sum of elements is the highest"
      ]
    },
    {
      "cell_type": "code",
      "metadata": {
        "colab": {
          "base_uri": "https://localhost:8080/"
        },
        "id": "My1nroj6fyN4",
        "outputId": "9be8aa0d-7749-48c1-e4c3-3d83208ea842"
      },
      "source": [
        "num = [[1,2,3], [4,5,6], [10,11,12], [7,8,9]]\n",
        "#method 1:\n",
        "l=[]\n",
        "for i in num:\n",
        "  s=sum(i)\n",
        "  l.append(i)\n",
        "print(max(l))\n",
        "#method 2:\n",
        "print(max(num, key=sum))"
      ],
      "execution_count": 13,
      "outputs": [
        {
          "output_type": "stream",
          "text": [
            "[10, 11, 12]\n",
            "[10, 11, 12]\n"
          ],
          "name": "stdout"
        }
      ]
    },
    {
      "cell_type": "markdown",
      "metadata": {
        "id": "a6DJptFdghOS"
      },
      "source": [
        "Write a Python program to access dictionary key’s element by index."
      ]
    },
    {
      "cell_type": "code",
      "metadata": {
        "colab": {
          "base_uri": "https://localhost:8080/"
        },
        "id": "6TAcXlD2gkXX",
        "outputId": "8a1b689b-e534-40f0-f11d-b668dbfc1bd3"
      },
      "source": [
        "num = {'stats': 80,\n",
        "       'math': 90,\n",
        "       'algorithm': 86}\n",
        "print(list(num)[1])"
      ],
      "execution_count": 17,
      "outputs": [
        {
          "output_type": "stream",
          "text": [
            "math\n"
          ],
          "name": "stdout"
        }
      ]
    },
    {
      "cell_type": "markdown",
      "metadata": {
        "id": "R6ggsEbqgvRK"
      },
      "source": [
        "Write a Python program to iterate over two lists simultaneously."
      ]
    },
    {
      "cell_type": "code",
      "metadata": {
        "colab": {
          "base_uri": "https://localhost:8080/"
        },
        "id": "EkkXVY_5gzQl",
        "outputId": "9723489b-551b-4b65-ed7d-33983ab8d5e6"
      },
      "source": [
        "num=[1,2,3]\n",
        "name=['sarika','abhi','kavya']\n",
        "for (i,j) in zip(num,name):\n",
        "  print(i,j)"
      ],
      "execution_count": 18,
      "outputs": [
        {
          "output_type": "stream",
          "text": [
            "1 sarika\n",
            "2 abhi\n",
            "3 kavya\n"
          ],
          "name": "stdout"
        }
      ]
    },
    {
      "cell_type": "markdown",
      "metadata": {
        "id": "zFcJ-jkjhEDK"
      },
      "source": [
        "write a program to inser a string at the begining of every elements in a list"
      ]
    },
    {
      "cell_type": "code",
      "metadata": {
        "colab": {
          "base_uri": "https://localhost:8080/"
        },
        "id": "uJi4CkhnhFyK",
        "outputId": "b8f12b49-6d48-4e6e-f64f-57aa8ace63e5"
      },
      "source": [
        "a = [1,2,3,4,5,6,7,8,9,10]\n",
        "\n",
        "print(['student{0}'.format(i) for i in a])"
      ],
      "execution_count": 20,
      "outputs": [
        {
          "output_type": "stream",
          "text": [
            "['student1', 'student2', 'student3', 'student4', 'student5', 'student6', 'student7', 'student8', 'student9', 'student10']\n"
          ],
          "name": "stdout"
        }
      ]
    },
    {
      "cell_type": "markdown",
      "metadata": {
        "id": "nZSVmyjghZHF"
      },
      "source": [
        "write a program to take two lists and print if they have at least one common member"
      ]
    },
    {
      "cell_type": "code",
      "metadata": {
        "colab": {
          "base_uri": "https://localhost:8080/"
        },
        "id": "vFnudZmmhfA5",
        "outputId": "4056b6e8-029e-44db-c896-7d9c459bdb43"
      },
      "source": [
        "def common_data(list1, list2):\n",
        "  result = False\n",
        "  for x in list1:\n",
        "    for y in list2:\n",
        "        if x == y:\n",
        "            #result = True\n",
        "            return True\n",
        "\n",
        "def main():\n",
        "  list1=list(map(int,input().split()))\n",
        "  list2=list(map(int,input().split()))\n",
        "  print(common_data(list1,list2))\n",
        "main()"
      ],
      "execution_count": 22,
      "outputs": [
        {
          "output_type": "stream",
          "text": [
            "1 2 3 4 5\n",
            "3 5 6 1 8 \n",
            "True\n"
          ],
          "name": "stdout"
        }
      ]
    },
    {
      "cell_type": "markdown",
      "metadata": {
        "id": "aQjQ32rJiJnM"
      },
      "source": [
        "compute all permutations in a list"
      ]
    },
    {
      "cell_type": "code",
      "metadata": {
        "colab": {
          "base_uri": "https://localhost:8080/"
        },
        "id": "1MpCh7hSiNBb",
        "outputId": "6ccae977-af3f-48f5-97df-9b7ef2fb6c14"
      },
      "source": [
        "import itertools\n",
        "print(list(itertools.permutations([12,22,23])))"
      ],
      "execution_count": 23,
      "outputs": [
        {
          "output_type": "stream",
          "text": [
            "[(12, 22, 23), (12, 23, 22), (22, 12, 23), (22, 23, 12), (23, 12, 22), (23, 22, 12)]\n"
          ],
          "name": "stdout"
        }
      ]
    }
  ]
}
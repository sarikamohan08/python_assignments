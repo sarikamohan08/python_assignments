{
  "nbformat": 4,
  "nbformat_minor": 0,
  "metadata": {
    "colab": {
      "name": "practice program 3.ipynb",
      "provenance": [],
      "authorship_tag": "ABX9TyO86mKHuFgR9syQU9wtmSkd",
      "include_colab_link": true
    },
    "kernelspec": {
      "name": "python3",
      "display_name": "Python 3"
    },
    "language_info": {
      "name": "python"
    }
  },
  "cells": [
    {
      "cell_type": "markdown",
      "metadata": {
        "id": "view-in-github",
        "colab_type": "text"
      },
      "source": [
        "<a href=\"https://colab.research.google.com/github/sarikamohan08/python_assignments/blob/main/assignment%208/practice_program_3.ipynb\" target=\"_parent\"><img src=\"https://colab.research.google.com/assets/colab-badge.svg\" alt=\"Open In Colab\"/></a>"
      ]
    },
    {
      "cell_type": "markdown",
      "metadata": {
        "id": "QxNK2n2P3isq"
      },
      "source": [
        "create a dictionary"
      ]
    },
    {
      "cell_type": "code",
      "metadata": {
        "colab": {
          "base_uri": "https://localhost:8080/"
        },
        "id": "Q1gu_OcN3fFb",
        "outputId": "ef54da64-51d0-4608-e9db-ea03f444dafc"
      },
      "source": [
        "dict1 = {'data': '123',\n",
        "'science':'234',\n",
        "'AI': '235'}\n",
        "dict1"
      ],
      "execution_count": 1,
      "outputs": [
        {
          "output_type": "execute_result",
          "data": {
            "text/plain": [
              "{'AI': '235', 'data': '123', 'science': '234'}"
            ]
          },
          "metadata": {
            "tags": []
          },
          "execution_count": 1
        }
      ]
    },
    {
      "cell_type": "markdown",
      "metadata": {
        "id": "5ioeuK9Z3pSh"
      },
      "source": [
        "write a program to sort a dictionary by key."
      ]
    },
    {
      "cell_type": "code",
      "metadata": {
        "colab": {
          "base_uri": "https://localhost:8080/"
        },
        "id": "YyvELT0T3r2R",
        "outputId": "73e68b4f-7a03-4510-d9b1-c3a9f59657d7"
      },
      "source": [
        "for key in sorted(dict1):\n",
        "  print(\"%s: %s\" % (key, dict1[key]))"
      ],
      "execution_count": 3,
      "outputs": [
        {
          "output_type": "stream",
          "text": [
            "AI: 235\n",
            "data: 123\n",
            "science: 234\n"
          ],
          "name": "stdout"
        }
      ]
    },
    {
      "cell_type": "markdown",
      "metadata": {
        "id": "3uik21HP3z5z"
      },
      "source": [
        "Write a Python program to get a dictionary from an object's fields."
      ]
    },
    {
      "cell_type": "code",
      "metadata": {
        "colab": {
          "base_uri": "https://localhost:8080/"
        },
        "id": "LAsoKfH43xfS",
        "outputId": "3800d2c4-b4d8-4ed1-de94-3670266e54bd"
      },
      "source": [
        "class dictObj(object):\n",
        "  def __init__(self):\n",
        "    self.x = 'algorithm'\n",
        "    self.y = 'statistics'\n",
        "    self.z = 'programming'\n",
        "  def do_nothing(self):\n",
        "    pass\n",
        "test = dictObj()\n",
        "print(test.__dict__)"
      ],
      "execution_count": 4,
      "outputs": [
        {
          "output_type": "stream",
          "text": [
            "{'x': 'algorithm', 'y': 'statistics', 'z': 'programming'}\n"
          ],
          "name": "stdout"
        }
      ]
    },
    {
      "cell_type": "markdown",
      "metadata": {
        "id": "wXjPk8xk4JOy"
      },
      "source": [
        "write a program to remove duplicates from Dictionary."
      ]
    },
    {
      "cell_type": "code",
      "metadata": {
        "colab": {
          "base_uri": "https://localhost:8080/"
        },
        "id": "Fk1TYwMk4LiF",
        "outputId": "6ac5b608-faad-4a6d-baa5-1c76dddc221b"
      },
      "source": [
        "student_data = {'id1':\n",
        "{'name': ['Sara'],\n",
        "'class': ['V'],\n",
        "'subject_integration': ['english, math, science']\n",
        "},\n",
        "'id2':\n",
        "{'name': ['David'],\n",
        "'class': ['V'],\n",
        "'subject_integration': ['english, math, science']\n",
        "},\n",
        "'id3':\n",
        "{'name': ['Sara'],\n",
        "'class': ['V'],\n",
        "'subject_integration': ['english, math, science']\n",
        "},\n",
        "'id4':\n",
        "{'name': ['Surya'],\n",
        "'class': ['V'],\n",
        "'subject_integration': ['english, math, science']\n",
        "},\n",
        "}\n",
        "result = {}\n",
        "for key,value in student_data.items():\n",
        "  if value not in result.values():  \n",
        "    result[key] = value\n",
        "print(result)"
      ],
      "execution_count": 5,
      "outputs": [
        {
          "output_type": "stream",
          "text": [
            "{'id1': {'name': ['Sara'], 'class': ['V'], 'subject_integration': ['english, math, science']}, 'id2': {'name': ['David'], 'class': ['V'], 'subject_integration': ['english, math, science']}, 'id4': {'name': ['Surya'], 'class': ['V'], 'subject_integration': ['english, math, science']}}\n"
          ],
          "name": "stdout"
        }
      ]
    },
    {
      "cell_type": "markdown",
      "metadata": {
        "id": "Ds30QRKf4kxD"
      },
      "source": [
        "write a program to combine two dictionary adding values for common keys"
      ]
    },
    {
      "cell_type": "code",
      "metadata": {
        "colab": {
          "base_uri": "https://localhost:8080/"
        },
        "id": "csXma6XV4eU0",
        "outputId": "19edd19e-68b5-4ff6-e73c-d1d126a058d0"
      },
      "source": [
        "from collections import Counter\n",
        "d1 = {'a': 1000, 'b': 3200, 'c':1300}\n",
        "d2 = {'a': 300, 'b': 200, 'd':400}\n",
        "d = Counter(d1) + Counter(d2)\n",
        "print(d)"
      ],
      "execution_count": 6,
      "outputs": [
        {
          "output_type": "stream",
          "text": [
            "Counter({'b': 3400, 'a': 1300, 'c': 1300, 'd': 400})\n"
          ],
          "name": "stdout"
        }
      ]
    },
    {
      "cell_type": "markdown",
      "metadata": {
        "id": "HKui6z_r4uSo"
      },
      "source": [
        "write a program to print all unique values from a dictionary in a list"
      ]
    },
    {
      "cell_type": "code",
      "metadata": {
        "colab": {
          "base_uri": "https://localhost:8080/"
        },
        "id": "LTiaF_ca4wzn",
        "outputId": "aeba0c8e-2586-4194-e90a-da2014884b93"
      },
      "source": [
        "data = [{\"V\":\"S001\"}, {\"V\": \"S002\"}, {\"VI\": \"S001\"}, {\"VI\": \"S005\"}, {\"VII\":\"S005\"}, {\n",
        "\"V\":\"S009\"},{\"VIII\":\"S007\"}]\n",
        "u_value = set( val for dic in data for val in dic.values())\n",
        "print(\"Unique Values: \",u_value)"
      ],
      "execution_count": 7,
      "outputs": [
        {
          "output_type": "stream",
          "text": [
            "Unique Values:  {'S007', 'S005', 'S001', 'S009', 'S002'}\n"
          ],
          "name": "stdout"
        }
      ]
    },
    {
      "cell_type": "code",
      "metadata": {
        "colab": {
          "base_uri": "https://localhost:8080/"
        },
        "id": "rYGZDzEG5KQm",
        "outputId": "fc6eb69a-411b-4d1b-cb41-bbdac569b5e2"
      },
      "source": [
        "type(data)"
      ],
      "execution_count": 8,
      "outputs": [
        {
          "output_type": "execute_result",
          "data": {
            "text/plain": [
              "list"
            ]
          },
          "metadata": {
            "tags": []
          },
          "execution_count": 8
        }
      ]
    }
  ]
}
{
  "nbformat": 4,
  "nbformat_minor": 0,
  "metadata": {
    "colab": {
      "name": "practice  problem.ipynb",
      "provenance": [],
      "collapsed_sections": [],
      "authorship_tag": "ABX9TyOqIcV9GmmdGrzY7eWJoEn4",
      "include_colab_link": true
    },
    "kernelspec": {
      "name": "python3",
      "display_name": "Python 3"
    },
    "language_info": {
      "name": "python"
    }
  },
  "cells": [
    {
      "cell_type": "markdown",
      "metadata": {
        "id": "view-in-github",
        "colab_type": "text"
      },
      "source": [
        "<a href=\"https://colab.research.google.com/github/sarikamohan08/python_assignments/blob/main/python_assignments/assignment%206/practice_problem.ipynb\" target=\"_parent\"><img src=\"https://colab.research.google.com/assets/colab-badge.svg\" alt=\"Open In Colab\"/></a>"
      ]
    },
    {
      "cell_type": "markdown",
      "metadata": {
        "id": "Lejbwp_pZ_QA"
      },
      "source": [
        "Write a Python program to sum all the items in a list."
      ]
    },
    {
      "cell_type": "code",
      "metadata": {
        "colab": {
          "base_uri": "https://localhost:8080/"
        },
        "id": "fQe2S_DdZ-fL",
        "outputId": "b624bd8e-2bb0-4398-8d70-ef6992817311"
      },
      "source": [
        "def add(arr):\n",
        "  sum1=0\n",
        "  for i in arr:\n",
        "    sum1=sum1+i\n",
        "  return sum1\n",
        "def main():\n",
        "  arr=list(map(int,input().split()))\n",
        "  print(add(arr))\n",
        "main()"
      ],
      "execution_count": 1,
      "outputs": [
        {
          "output_type": "stream",
          "text": [
            "1 2 3 4 5\n",
            "15\n"
          ],
          "name": "stdout"
        }
      ]
    },
    {
      "cell_type": "markdown",
      "metadata": {
        "id": "fCDeezaUaqkL"
      },
      "source": [
        "\n",
        "\n",
        "> Write a Python program to count the number of strings where the string length is 2 or\n",
        "\n",
        "\n",
        "> more and the first and last character are same from a given list of strings."
      ]
    },
    {
      "cell_type": "code",
      "metadata": {
        "colab": {
          "base_uri": "https://localhost:8080/"
        },
        "id": "LXeK-1uWbHcl",
        "outputId": "d983026b-21d7-4a7e-89c9-0b2ff00f4b92"
      },
      "source": [
        "def match_words(words):\n",
        "    ctr = 0\n",
        "    for word in words:\n",
        "        if len(word) > 1 and word[0] == word[-1]:\n",
        "            ctr += 1\n",
        "    return ctr\n",
        "\n",
        "def main():\n",
        "    a=list(map(str,input().split()))\n",
        "    print(match_words(a))\n",
        "\n",
        "main()"
      ],
      "execution_count": 6,
      "outputs": [
        {
          "output_type": "stream",
          "text": [
            "abc aba 1221 dkdfsjd rihfvr\n",
            "4\n"
          ],
          "name": "stdout"
        }
      ]
    },
    {
      "cell_type": "markdown",
      "metadata": {
        "id": "vz_-dXQqcBdN"
      },
      "source": [
        "Write a Python program to remove duplicates from a list."
      ]
    },
    {
      "cell_type": "code",
      "metadata": {
        "colab": {
          "base_uri": "https://localhost:8080/"
        },
        "id": "lNOWd7DgcC4V",
        "outputId": "7e3a6fd7-0636-43b3-c8f0-cd84e3203171"
      },
      "source": [
        "def main():\n",
        "  arr=list(map(int,input().split()))\n",
        "  arr1=set(arr)\n",
        "  print(arr1)\n",
        "main()"
      ],
      "execution_count": 10,
      "outputs": [
        {
          "output_type": "stream",
          "text": [
            "12 45 12 34 78 34\n",
            "{34, 12, 45, 78}\n"
          ],
          "name": "stdout"
        }
      ]
    }
  ]
}
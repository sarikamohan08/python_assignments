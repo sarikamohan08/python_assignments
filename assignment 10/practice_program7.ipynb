{
  "nbformat": 4,
  "nbformat_minor": 0,
  "metadata": {
    "colab": {
      "name": "practice_program7.ipynb",
      "provenance": [],
      "authorship_tag": "ABX9TyOgrx1newTK8aS4tZZWPMql",
      "include_colab_link": true
    },
    "kernelspec": {
      "name": "python3",
      "display_name": "Python 3"
    },
    "language_info": {
      "name": "python"
    }
  },
  "cells": [
    {
      "cell_type": "markdown",
      "metadata": {
        "id": "view-in-github",
        "colab_type": "text"
      },
      "source": [
        "<a href=\"https://colab.research.google.com/github/sarikamohan08/python_assignments/blob/main/assignment%2010/practice_program7.ipynb\" target=\"_parent\"><img src=\"https://colab.research.google.com/assets/colab-badge.svg\" alt=\"Open In Colab\"/></a>"
      ]
    },
    {
      "cell_type": "markdown",
      "metadata": {
        "id": "lXTITK1o53ho"
      },
      "source": [
        "create a tuple from multiple data types"
      ]
    },
    {
      "cell_type": "code",
      "metadata": {
        "colab": {
          "base_uri": "https://localhost:8080/"
        },
        "id": "CWloGDqK58eb",
        "outputId": "57384482-3dd2-45d1-c711-96c49434cf62"
      },
      "source": [
        "tuple1 = (\"tuple\", False, 3.2, 1)\n",
        "tuple1"
      ],
      "execution_count": 1,
      "outputs": [
        {
          "output_type": "execute_result",
          "data": {
            "text/plain": [
              "('tuple', False, 3.2, 1)"
            ]
          },
          "metadata": {
            "tags": []
          },
          "execution_count": 1
        }
      ]
    },
    {
      "cell_type": "code",
      "metadata": {
        "colab": {
          "base_uri": "https://localhost:8080/"
        },
        "id": "DDJjY1np99S7",
        "outputId": "baaa0766-b782-4422-8b47-d9b79c43c568"
      },
      "source": [
        "a = ['tuple','dict','try']\n",
        "b = [2.3,4.5,6.7]\n",
        "c = [1,2,3]\n",
        "d = [True, False, True]\n",
        "tuple2 = (a,b,c,d)\n",
        "tuple2"
      ],
      "execution_count": 3,
      "outputs": [
        {
          "output_type": "execute_result",
          "data": {
            "text/plain": [
              "(['tuple', 'dict', 'try'], [2.3, 4.5, 6.7], [1, 2, 3], [True, False, True])"
            ]
          },
          "metadata": {
            "tags": []
          },
          "execution_count": 3
        }
      ]
    },
    {
      "cell_type": "markdown",
      "metadata": {
        "id": "I1E-PTBQ-K-O"
      },
      "source": [
        " Create a list of length 3 and Create a list of length 4, For each element in the first list,\n",
        "Display the corresponding index element of the second list"
      ]
    },
    {
      "cell_type": "code",
      "metadata": {
        "colab": {
          "base_uri": "https://localhost:8080/"
        },
        "id": "nro5OXm5-Ke7",
        "outputId": "e4fa9b2b-e820-427d-9630-c96e20bdec0d"
      },
      "source": [
        "header = ['data science', 'Blue mix', 'algorithms']\n",
        "match = ['Red hat', 'Blue mixx','Green gold','Orange Ai']\n",
        "for header, match in zip(header, match):\n",
        "# Display the corresponding index element of the second list:\n",
        "  print(header, 'has the following options:', match)"
      ],
      "execution_count": 4,
      "outputs": [
        {
          "output_type": "stream",
          "text": [
            "data science has the following options: Red hat\n",
            "Blue mix has the following options: Blue mixx\n",
            "algorithms has the following options: Green gold\n"
          ],
          "name": "stdout"
        }
      ]
    },
    {
      "cell_type": "markdown",
      "metadata": {
        "id": "JgKIPgnf-mq3"
      },
      "source": [
        "display an example of Nested For Loops Using List Comprehension\n"
      ]
    },
    {
      "cell_type": "code",
      "metadata": {
        "colab": {
          "base_uri": "https://localhost:8080/"
        },
        "id": "rLHFo8A3-ou_",
        "outputId": "1bef277b-2a00-4536-d7dc-fefe342131bb"
      },
      "source": [
        "headers = ['data science', 'Blue mix', 'algorithms']\n",
        "matches = ['Red hat', 'Blue mixx','Green gold','Orange Ai']\n",
        "[(header, match) for header in headers for match in matches ]"
      ],
      "execution_count": 6,
      "outputs": [
        {
          "output_type": "execute_result",
          "data": {
            "text/plain": [
              "[('data science', 'Red hat'),\n",
              " ('data science', 'Blue mixx'),\n",
              " ('data science', 'Green gold'),\n",
              " ('data science', 'Orange Ai'),\n",
              " ('Blue mix', 'Red hat'),\n",
              " ('Blue mix', 'Blue mixx'),\n",
              " ('Blue mix', 'Green gold'),\n",
              " ('Blue mix', 'Orange Ai'),\n",
              " ('algorithms', 'Red hat'),\n",
              " ('algorithms', 'Blue mixx'),\n",
              " ('algorithms', 'Green gold'),\n",
              " ('algorithms', 'Orange Ai')]"
            ]
          },
          "metadata": {
            "tags": []
          },
          "execution_count": 6
        }
      ]
    },
    {
      "cell_type": "markdown",
      "metadata": {
        "id": "ZA86Btud_AVH"
      },
      "source": [
        "write a program for breaking and exiting out of loop"
      ]
    },
    {
      "cell_type": "code",
      "metadata": {
        "colab": {
          "base_uri": "https://localhost:8080/"
        },
        "id": "lfaKCHAV-_8N",
        "outputId": "77f3adfa-3d32-474a-dcdb-d869c2f967cd"
      },
      "source": [
        "armies = ['Red Army', 'Blue Army', 'Green Army']\n",
        "for army in armies:\n",
        "  print(army)\n",
        "  if army == 'Blue Army':\n",
        "    print('Blue Army Found! Stopping.')\n",
        "    break"
      ],
      "execution_count": 7,
      "outputs": [
        {
          "output_type": "stream",
          "text": [
            "Red Army\n",
            "Blue Army\n",
            "Blue Army Found! Stopping.\n"
          ],
          "name": "stdout"
        }
      ]
    },
    {
      "cell_type": "markdown",
      "metadata": {
        "id": "xDS6zm-Z_PV5"
      },
      "source": [
        "A loop will exit when completed, but using an else statement we can add an action at t\n",
        "he conclusion of the loop if it hasn’t been exited earlier."
      ]
    },
    {
      "cell_type": "code",
      "metadata": {
        "colab": {
          "base_uri": "https://localhost:8080/"
        },
        "id": "xPveREHP_RP2",
        "outputId": "83360fea-dc60-479c-e1e3-a8e6f9e42a1a"
      },
      "source": [
        "for army in armies:\n",
        "  print(army)\n",
        "  if army == 'Orange Army':\n",
        "    break\n",
        "else:\n",
        "    print('Looped Through The Whole List, No Orange Army Found')"
      ],
      "execution_count": 9,
      "outputs": [
        {
          "output_type": "stream",
          "text": [
            "Red Army\n",
            "Blue Army\n",
            "Green Army\n",
            "Looped Through The Whole List, No Orange Army Found\n"
          ],
          "name": "stdout"
        }
      ]
    }
  ]
}